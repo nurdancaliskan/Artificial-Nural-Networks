{
  "nbformat": 4,
  "nbformat_minor": 0,
  "metadata": {
    "colab": {
      "provenance": []
    },
    "kernelspec": {
      "name": "python3",
      "display_name": "Python 3"
    },
    "language_info": {
      "name": "python"
    }
  },
  "cells": [
    {
      "cell_type": "code",
      "execution_count": 1,
      "metadata": {
        "colab": {
          "base_uri": "https://localhost:8080/"
        },
        "id": "xoytG3QECXvL",
        "outputId": "7614ead8-6d1a-41ca-ac7c-89e150893530"
      },
      "outputs": [
        {
          "output_type": "stream",
          "name": "stdout",
          "text": [
            "tensor([[0.4878],\n",
            "        [0.4918]], grad_fn=<MulBackward0>)\n"
          ]
        }
      ],
      "source": [
        "import torch\n",
        "import torch.nn as nn\n",
        "\n",
        "X = torch.tensor([[1, 2, 3], [4, 5, 6]], dtype=torch.float)\n",
        "\n",
        "def tan_func(x):\n",
        "\n",
        "  return (torch.exp(x) - torch.exp(-x)) / (torch.exp(x) + torch.exp(-x))\n",
        "\n",
        "def sigmoid_func(x):\n",
        "\n",
        "  return 1 / (1 + torch.exp(-x))\n",
        "\n",
        "\n",
        "class nModel(nn.Module):\n",
        "    def __init__(self):\n",
        "        super(nModel, self).__init__()\n",
        "        self.hidden = nn.Linear(3, 50)  # 3 öznitelikli bir hidden layer, 50 nöron\n",
        "        self.output = nn.Linear(50, 1)  # 50 nöronlu bir output layer, 1 nöron\n",
        "\n",
        "    def forward(self, x):\n",
        "        x = tan_func(self.hidden(x))  # Tanh aktivasyon fonksiyonu\n",
        "        x = sigmoid_func(self.output(x))  # Sigmoid aktivasyon fonksiyonu\n",
        "        return x\n",
        "\n",
        "model = nModel() \n",
        "torch.manual_seed(1)\n",
        "\n",
        "output = model(X)\n",
        "print(output)"
      ]
    },
    {
      "cell_type": "code",
      "source": [
        "import torch\n",
        "import torch.nn as nn\n",
        "\n",
        "X = torch.tensor([[1, 2, 3], [4, 5, 6]], dtype=torch.float)\n",
        "\n",
        "def tan_func(x):\n",
        "\n",
        "  return (torch.exp(x) - torch.exp(-x)) / (torch.exp(x) + torch.exp(-x))\n",
        "\n",
        "def sigmoid_func(x):\n",
        "\n",
        "  return 1 / (1 + torch.exp(-x))\n",
        "\n",
        "\n",
        "class nModel(nn.Module):\n",
        "    def __init__(self):\n",
        "        super(nModel, self).__init__()\n",
        "        self.hidden = nn.Linear(3, 50)  # 3 öznitelikli bir hidden layer, 50 nöron\n",
        "        self.output = nn.Linear(50, 1)  # 50 nöronlu bir output layer, 1 nöron\n",
        "\n",
        "    def forward(self, x):\n",
        "        x = tan_func(self.hidden(x))  # Tanh aktivasyon fonksiyonu\n",
        "        x = sigmoid_func(self.output(x))  # Sigmoid aktivasyon fonksiyonu\n",
        "        return x\n",
        "\n",
        "model = nModel() \n",
        "torch.manual_seed(190401073)\n",
        "output = model(X)\n",
        "print(output)"
      ],
      "metadata": {
        "colab": {
          "base_uri": "https://localhost:8080/"
        },
        "id": "jYnxBKduCoJW",
        "outputId": "7490f913-6845-4790-df18-3ca3978db266"
      },
      "execution_count": 2,
      "outputs": [
        {
          "output_type": "stream",
          "name": "stdout",
          "text": [
            "tensor([[0.4892],\n",
            "        [0.5566]], grad_fn=<MulBackward0>)\n"
          ]
        }
      ]
    }
  ]
}